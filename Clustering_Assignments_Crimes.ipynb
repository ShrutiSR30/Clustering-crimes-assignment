{
  "nbformat": 4,
  "nbformat_minor": 0,
  "metadata": {
    "kernelspec": {
      "display_name": "Python 3",
      "language": "python",
      "name": "python3"
    },
    "language_info": {
      "codemirror_mode": {
        "name": "ipython",
        "version": 3
      },
      "file_extension": ".py",
      "mimetype": "text/x-python",
      "name": "python",
      "nbconvert_exporter": "python",
      "pygments_lexer": "ipython3",
      "version": "3.8.5"
    },
    "colab": {
      "name": "Clustering Assignments Crimes ",
      "provenance": [],
      "collapsed_sections": [
        "TvUZpLMY47vJ",
        "ciBEQY9b47vK",
        "y4SH8ue547vL",
        "AW3qPaQs47vM",
        "NMeSTS9o47vO",
        "yGHaZwUC47vR",
        "l9fMkeqc47vV",
        "fLaQVlaV47vY",
        "B81q0yHm47ve",
        "h7pw5kNN47vp",
        "sVXJ7FLv47vq",
        "OG4nJk5947vq",
        "KfVRoTcP47vr",
        "MwVnRPIc47vr"
      ]
    }
  },
  "cells": [
    {
      "cell_type": "markdown",
      "metadata": {
        "id": "Q-j8iKX847ur"
      },
      "source": [
        "# Clustering Assignments on Crime data"
      ]
    },
    {
      "cell_type": "code",
      "metadata": {
        "colab": {
          "base_uri": "https://localhost:8080/"
        },
        "id": "XOIxa1PEPFyA",
        "outputId": "bda28631-6a88-4565-8204-6bc52fb7bff9"
      },
      "source": [
        "from google.colab import drive\n",
        "drive.mount('/content/drive')"
      ],
      "execution_count": 1,
      "outputs": [
        {
          "output_type": "stream",
          "name": "stdout",
          "text": [
            "Mounted at /content/drive\n"
          ]
        }
      ]
    },
    {
      "cell_type": "markdown",
      "metadata": {
        "id": "N2UQPnEr47u7"
      },
      "source": [
        "# Objective:-We want to identify the number of clusters for same crime rate state in USA"
      ]
    },
    {
      "cell_type": "markdown",
      "metadata": {
        "id": "mYvJbXbH47u8"
      },
      "source": [
        "### Dataset - crime_data"
      ]
    },
    {
      "cell_type": "markdown",
      "metadata": {
        "id": "kvgLUI-c47u9"
      },
      "source": [
        "### Import the important libraries"
      ]
    },
    {
      "cell_type": "code",
      "metadata": {
        "id": "PwpMoXnu47u9"
      },
      "source": [
        "import scipy.cluster.hierarchy as sch\n",
        "from sklearn.cluster import AgglomerativeClustering\n",
        "import numpy as np\n",
        "import pandas as pd\n",
        "from matplotlib import pyplot as plt\n",
        "import seaborn as sns"
      ],
      "execution_count": 2,
      "outputs": []
    },
    {
      "cell_type": "markdown",
      "metadata": {
        "id": "dmHW_kPa47u-"
      },
      "source": [
        "### Load the Dataset"
      ]
    },
    {
      "cell_type": "code",
      "metadata": {
        "id": "zIceA-FM47u_",
        "colab": {
          "base_uri": "https://localhost:8080/",
          "height": 204
        },
        "outputId": "ec99198b-3704-43da-bc19-985268fe1571"
      },
      "source": [
        "crime = pd.read_csv(\"/content/drive/MyDrive/Colab Notebooks/crime_data (1).csv\")\n",
        "crime.head()"
      ],
      "execution_count": 4,
      "outputs": [
        {
          "output_type": "execute_result",
          "data": {
            "text/html": [
              "<div>\n",
              "<style scoped>\n",
              "    .dataframe tbody tr th:only-of-type {\n",
              "        vertical-align: middle;\n",
              "    }\n",
              "\n",
              "    .dataframe tbody tr th {\n",
              "        vertical-align: top;\n",
              "    }\n",
              "\n",
              "    .dataframe thead th {\n",
              "        text-align: right;\n",
              "    }\n",
              "</style>\n",
              "<table border=\"1\" class=\"dataframe\">\n",
              "  <thead>\n",
              "    <tr style=\"text-align: right;\">\n",
              "      <th></th>\n",
              "      <th>Unnamed: 0</th>\n",
              "      <th>Murder</th>\n",
              "      <th>Assault</th>\n",
              "      <th>UrbanPop</th>\n",
              "      <th>Rape</th>\n",
              "    </tr>\n",
              "  </thead>\n",
              "  <tbody>\n",
              "    <tr>\n",
              "      <th>0</th>\n",
              "      <td>Alabama</td>\n",
              "      <td>13.2</td>\n",
              "      <td>236</td>\n",
              "      <td>58</td>\n",
              "      <td>21.2</td>\n",
              "    </tr>\n",
              "    <tr>\n",
              "      <th>1</th>\n",
              "      <td>Alaska</td>\n",
              "      <td>10.0</td>\n",
              "      <td>263</td>\n",
              "      <td>48</td>\n",
              "      <td>44.5</td>\n",
              "    </tr>\n",
              "    <tr>\n",
              "      <th>2</th>\n",
              "      <td>Arizona</td>\n",
              "      <td>8.1</td>\n",
              "      <td>294</td>\n",
              "      <td>80</td>\n",
              "      <td>31.0</td>\n",
              "    </tr>\n",
              "    <tr>\n",
              "      <th>3</th>\n",
              "      <td>Arkansas</td>\n",
              "      <td>8.8</td>\n",
              "      <td>190</td>\n",
              "      <td>50</td>\n",
              "      <td>19.5</td>\n",
              "    </tr>\n",
              "    <tr>\n",
              "      <th>4</th>\n",
              "      <td>California</td>\n",
              "      <td>9.0</td>\n",
              "      <td>276</td>\n",
              "      <td>91</td>\n",
              "      <td>40.6</td>\n",
              "    </tr>\n",
              "  </tbody>\n",
              "</table>\n",
              "</div>"
            ],
            "text/plain": [
              "   Unnamed: 0  Murder  Assault  UrbanPop  Rape\n",
              "0     Alabama    13.2      236        58  21.2\n",
              "1      Alaska    10.0      263        48  44.5\n",
              "2     Arizona     8.1      294        80  31.0\n",
              "3    Arkansas     8.8      190        50  19.5\n",
              "4  California     9.0      276        91  40.6"
            ]
          },
          "metadata": {},
          "execution_count": 4
        }
      ]
    },
    {
      "cell_type": "markdown",
      "metadata": {
        "id": "Cli0WADX47vC"
      },
      "source": [
        "### We will rename the \"Unnamed\" column as \"State\""
      ]
    },
    {
      "cell_type": "code",
      "metadata": {
        "id": "1Nrm7pad47vE"
      },
      "source": [
        "crime.rename(columns={\"Unnamed: 0\":\"state\"},inplace=True)"
      ],
      "execution_count": 5,
      "outputs": []
    },
    {
      "cell_type": "code",
      "metadata": {
        "id": "6MR3fbyO47vE",
        "colab": {
          "base_uri": "https://localhost:8080/",
          "height": 204
        },
        "outputId": "be0509d2-b7eb-4902-a2b5-e115157476d9"
      },
      "source": [
        "crime.head()"
      ],
      "execution_count": 6,
      "outputs": [
        {
          "output_type": "execute_result",
          "data": {
            "text/html": [
              "<div>\n",
              "<style scoped>\n",
              "    .dataframe tbody tr th:only-of-type {\n",
              "        vertical-align: middle;\n",
              "    }\n",
              "\n",
              "    .dataframe tbody tr th {\n",
              "        vertical-align: top;\n",
              "    }\n",
              "\n",
              "    .dataframe thead th {\n",
              "        text-align: right;\n",
              "    }\n",
              "</style>\n",
              "<table border=\"1\" class=\"dataframe\">\n",
              "  <thead>\n",
              "    <tr style=\"text-align: right;\">\n",
              "      <th></th>\n",
              "      <th>state</th>\n",
              "      <th>Murder</th>\n",
              "      <th>Assault</th>\n",
              "      <th>UrbanPop</th>\n",
              "      <th>Rape</th>\n",
              "    </tr>\n",
              "  </thead>\n",
              "  <tbody>\n",
              "    <tr>\n",
              "      <th>0</th>\n",
              "      <td>Alabama</td>\n",
              "      <td>13.2</td>\n",
              "      <td>236</td>\n",
              "      <td>58</td>\n",
              "      <td>21.2</td>\n",
              "    </tr>\n",
              "    <tr>\n",
              "      <th>1</th>\n",
              "      <td>Alaska</td>\n",
              "      <td>10.0</td>\n",
              "      <td>263</td>\n",
              "      <td>48</td>\n",
              "      <td>44.5</td>\n",
              "    </tr>\n",
              "    <tr>\n",
              "      <th>2</th>\n",
              "      <td>Arizona</td>\n",
              "      <td>8.1</td>\n",
              "      <td>294</td>\n",
              "      <td>80</td>\n",
              "      <td>31.0</td>\n",
              "    </tr>\n",
              "    <tr>\n",
              "      <th>3</th>\n",
              "      <td>Arkansas</td>\n",
              "      <td>8.8</td>\n",
              "      <td>190</td>\n",
              "      <td>50</td>\n",
              "      <td>19.5</td>\n",
              "    </tr>\n",
              "    <tr>\n",
              "      <th>4</th>\n",
              "      <td>California</td>\n",
              "      <td>9.0</td>\n",
              "      <td>276</td>\n",
              "      <td>91</td>\n",
              "      <td>40.6</td>\n",
              "    </tr>\n",
              "  </tbody>\n",
              "</table>\n",
              "</div>"
            ],
            "text/plain": [
              "        state  Murder  Assault  UrbanPop  Rape\n",
              "0     Alabama    13.2      236        58  21.2\n",
              "1      Alaska    10.0      263        48  44.5\n",
              "2     Arizona     8.1      294        80  31.0\n",
              "3    Arkansas     8.8      190        50  19.5\n",
              "4  California     9.0      276        91  40.6"
            ]
          },
          "metadata": {},
          "execution_count": 6
        }
      ]
    },
    {
      "cell_type": "code",
      "metadata": {
        "id": "96gBWGj_47vF",
        "colab": {
          "base_uri": "https://localhost:8080/"
        },
        "outputId": "e9da8337-6bec-4719-ce55-a5e545936f97"
      },
      "source": [
        "crime.shape"
      ],
      "execution_count": 7,
      "outputs": [
        {
          "output_type": "execute_result",
          "data": {
            "text/plain": [
              "(50, 5)"
            ]
          },
          "metadata": {},
          "execution_count": 7
        }
      ]
    },
    {
      "cell_type": "markdown",
      "metadata": {
        "id": "R71JD15x47vG"
      },
      "source": [
        "### Checking of null values & data types of variable"
      ]
    },
    {
      "cell_type": "code",
      "metadata": {
        "id": "CJrKJv8D47vG",
        "colab": {
          "base_uri": "https://localhost:8080/"
        },
        "outputId": "802cd12f-f2fe-48d3-cf76-b626c926a589"
      },
      "source": [
        "crime.info()"
      ],
      "execution_count": 8,
      "outputs": [
        {
          "output_type": "stream",
          "name": "stdout",
          "text": [
            "<class 'pandas.core.frame.DataFrame'>\n",
            "RangeIndex: 50 entries, 0 to 49\n",
            "Data columns (total 5 columns):\n",
            " #   Column    Non-Null Count  Dtype  \n",
            "---  ------    --------------  -----  \n",
            " 0   state     50 non-null     object \n",
            " 1   Murder    50 non-null     float64\n",
            " 2   Assault   50 non-null     int64  \n",
            " 3   UrbanPop  50 non-null     int64  \n",
            " 4   Rape      50 non-null     float64\n",
            "dtypes: float64(2), int64(2), object(1)\n",
            "memory usage: 2.1+ KB\n"
          ]
        }
      ]
    },
    {
      "cell_type": "markdown",
      "metadata": {
        "id": "O-waWIN547vH"
      },
      "source": [
        "**There is no null value present inside the data and the datatypes of alltributes are appropriate.**"
      ]
    },
    {
      "cell_type": "markdown",
      "metadata": {
        "id": "u0t31ikJ47vH"
      },
      "source": [
        "### Checking of duplicate values"
      ]
    },
    {
      "cell_type": "code",
      "metadata": {
        "id": "378b9Aum47vI",
        "colab": {
          "base_uri": "https://localhost:8080/",
          "height": 49
        },
        "outputId": "12b0b73e-7c3d-453e-897f-9e3a37c36936"
      },
      "source": [
        "crime[crime.duplicated(keep= False)]"
      ],
      "execution_count": 9,
      "outputs": [
        {
          "output_type": "execute_result",
          "data": {
            "text/html": [
              "<div>\n",
              "<style scoped>\n",
              "    .dataframe tbody tr th:only-of-type {\n",
              "        vertical-align: middle;\n",
              "    }\n",
              "\n",
              "    .dataframe tbody tr th {\n",
              "        vertical-align: top;\n",
              "    }\n",
              "\n",
              "    .dataframe thead th {\n",
              "        text-align: right;\n",
              "    }\n",
              "</style>\n",
              "<table border=\"1\" class=\"dataframe\">\n",
              "  <thead>\n",
              "    <tr style=\"text-align: right;\">\n",
              "      <th></th>\n",
              "      <th>state</th>\n",
              "      <th>Murder</th>\n",
              "      <th>Assault</th>\n",
              "      <th>UrbanPop</th>\n",
              "      <th>Rape</th>\n",
              "    </tr>\n",
              "  </thead>\n",
              "  <tbody>\n",
              "  </tbody>\n",
              "</table>\n",
              "</div>"
            ],
            "text/plain": [
              "Empty DataFrame\n",
              "Columns: [state, Murder, Assault, UrbanPop, Rape]\n",
              "Index: []"
            ]
          },
          "metadata": {},
          "execution_count": 9
        }
      ]
    },
    {
      "cell_type": "markdown",
      "metadata": {
        "id": "r0NrfEZd47vI"
      },
      "source": [
        "**There is no duplicate values are present inside the data.**"
      ]
    },
    {
      "cell_type": "markdown",
      "metadata": {
        "id": "TvUZpLMY47vJ"
      },
      "source": [
        "### We will check in the statistics terms to get basic ideas"
      ]
    },
    {
      "cell_type": "code",
      "metadata": {
        "id": "q_xqEkeN47vJ",
        "colab": {
          "base_uri": "https://localhost:8080/",
          "height": 297
        },
        "outputId": "34a403fb-60ad-4295-a9b4-6c7227080e44"
      },
      "source": [
        "#We can see here min/max urban population & crime rate \n",
        "crime.describe()"
      ],
      "execution_count": 10,
      "outputs": [
        {
          "output_type": "execute_result",
          "data": {
            "text/html": [
              "<div>\n",
              "<style scoped>\n",
              "    .dataframe tbody tr th:only-of-type {\n",
              "        vertical-align: middle;\n",
              "    }\n",
              "\n",
              "    .dataframe tbody tr th {\n",
              "        vertical-align: top;\n",
              "    }\n",
              "\n",
              "    .dataframe thead th {\n",
              "        text-align: right;\n",
              "    }\n",
              "</style>\n",
              "<table border=\"1\" class=\"dataframe\">\n",
              "  <thead>\n",
              "    <tr style=\"text-align: right;\">\n",
              "      <th></th>\n",
              "      <th>Murder</th>\n",
              "      <th>Assault</th>\n",
              "      <th>UrbanPop</th>\n",
              "      <th>Rape</th>\n",
              "    </tr>\n",
              "  </thead>\n",
              "  <tbody>\n",
              "    <tr>\n",
              "      <th>count</th>\n",
              "      <td>50.00000</td>\n",
              "      <td>50.000000</td>\n",
              "      <td>50.000000</td>\n",
              "      <td>50.000000</td>\n",
              "    </tr>\n",
              "    <tr>\n",
              "      <th>mean</th>\n",
              "      <td>7.78800</td>\n",
              "      <td>170.760000</td>\n",
              "      <td>65.540000</td>\n",
              "      <td>21.232000</td>\n",
              "    </tr>\n",
              "    <tr>\n",
              "      <th>std</th>\n",
              "      <td>4.35551</td>\n",
              "      <td>83.337661</td>\n",
              "      <td>14.474763</td>\n",
              "      <td>9.366385</td>\n",
              "    </tr>\n",
              "    <tr>\n",
              "      <th>min</th>\n",
              "      <td>0.80000</td>\n",
              "      <td>45.000000</td>\n",
              "      <td>32.000000</td>\n",
              "      <td>7.300000</td>\n",
              "    </tr>\n",
              "    <tr>\n",
              "      <th>25%</th>\n",
              "      <td>4.07500</td>\n",
              "      <td>109.000000</td>\n",
              "      <td>54.500000</td>\n",
              "      <td>15.075000</td>\n",
              "    </tr>\n",
              "    <tr>\n",
              "      <th>50%</th>\n",
              "      <td>7.25000</td>\n",
              "      <td>159.000000</td>\n",
              "      <td>66.000000</td>\n",
              "      <td>20.100000</td>\n",
              "    </tr>\n",
              "    <tr>\n",
              "      <th>75%</th>\n",
              "      <td>11.25000</td>\n",
              "      <td>249.000000</td>\n",
              "      <td>77.750000</td>\n",
              "      <td>26.175000</td>\n",
              "    </tr>\n",
              "    <tr>\n",
              "      <th>max</th>\n",
              "      <td>17.40000</td>\n",
              "      <td>337.000000</td>\n",
              "      <td>91.000000</td>\n",
              "      <td>46.000000</td>\n",
              "    </tr>\n",
              "  </tbody>\n",
              "</table>\n",
              "</div>"
            ],
            "text/plain": [
              "         Murder     Assault   UrbanPop       Rape\n",
              "count  50.00000   50.000000  50.000000  50.000000\n",
              "mean    7.78800  170.760000  65.540000  21.232000\n",
              "std     4.35551   83.337661  14.474763   9.366385\n",
              "min     0.80000   45.000000  32.000000   7.300000\n",
              "25%     4.07500  109.000000  54.500000  15.075000\n",
              "50%     7.25000  159.000000  66.000000  20.100000\n",
              "75%    11.25000  249.000000  77.750000  26.175000\n",
              "max    17.40000  337.000000  91.000000  46.000000"
            ]
          },
          "metadata": {},
          "execution_count": 10
        }
      ]
    },
    {
      "cell_type": "markdown",
      "metadata": {
        "id": "ciBEQY9b47vK"
      },
      "source": [
        "### Checking of outliers"
      ]
    },
    {
      "cell_type": "code",
      "metadata": {
        "id": "jQ8zn6F947vK",
        "colab": {
          "base_uri": "https://localhost:8080/",
          "height": 453
        },
        "outputId": "5a39b3be-6039-45e0-e422-9a1151394260"
      },
      "source": [
        "fig, ax = plt.subplots(1, 4, figsize=(15,4))\n",
        "sns.boxplot(crime.Murder, ax=ax[0])\n",
        "sns.boxplot(crime.Assault, ax=ax[1])\n",
        "sns.boxplot(crime.UrbanPop, ax=ax[2])\n",
        "sns.boxplot(crime.Rape, ax=ax[3])\n",
        "plt.tight_layout()\n",
        "plt.show()"
      ],
      "execution_count": 11,
      "outputs": [
        {
          "output_type": "stream",
          "name": "stderr",
          "text": [
            "/usr/local/lib/python3.7/dist-packages/seaborn/_decorators.py:43: FutureWarning: Pass the following variable as a keyword arg: x. From version 0.12, the only valid positional argument will be `data`, and passing other arguments without an explicit keyword will result in an error or misinterpretation.\n",
            "  FutureWarning\n",
            "/usr/local/lib/python3.7/dist-packages/seaborn/_decorators.py:43: FutureWarning: Pass the following variable as a keyword arg: x. From version 0.12, the only valid positional argument will be `data`, and passing other arguments without an explicit keyword will result in an error or misinterpretation.\n",
            "  FutureWarning\n",
            "/usr/local/lib/python3.7/dist-packages/seaborn/_decorators.py:43: FutureWarning: Pass the following variable as a keyword arg: x. From version 0.12, the only valid positional argument will be `data`, and passing other arguments without an explicit keyword will result in an error or misinterpretation.\n",
            "  FutureWarning\n",
            "/usr/local/lib/python3.7/dist-packages/seaborn/_decorators.py:43: FutureWarning: Pass the following variable as a keyword arg: x. From version 0.12, the only valid positional argument will be `data`, and passing other arguments without an explicit keyword will result in an error or misinterpretation.\n",
            "  FutureWarning\n"
          ]
        },
        {
          "output_type": "display_data",
          "data": {
            "image/png": "[encoded data removed]",
            "text/plain": [
              "<Figure size 1080x288 with 4 Axes>"
            ]
          },
          "metadata": {
            "needs_background": "light"
          }
        }
      ]
    },
    {
      "cell_type": "markdown",
      "metadata": {
        "id": "y4SH8ue547vL"
      },
      "source": [
        "### Using Distplot check the distribution of data"
      ]
    },
    {
      "cell_type": "code",
      "metadata": {
        "id": "WkQB_D4347vL",
        "colab": {
          "base_uri": "https://localhost:8080/",
          "height": 517
        },
        "outputId": "7932541c-1cfa-467b-e3d1-958d1ed00026"
      },
      "source": [
        "fig, ax = plt.subplots(1, 4, figsize=(25,7))\n",
        "sns.distplot(crime.Murder, ax=ax[0])\n",
        "sns.distplot(crime.Assault, ax=ax[1])\n",
        "sns.distplot(crime.UrbanPop, ax=ax[2])\n",
        "sns.distplot(crime.Rape, ax=ax[3])\n",
        "plt.tight_layout()\n",
        "plt.show()\n",
        "\n",
        "##Murder rate increase frequency decreased it means no. of state is decreased\n",
        "##Assault rate increase frequency decreased it means no. of state is decreased\n",
        "##High urban population have a lot of state\n",
        "##Low rape rate have a lot of state but high rape rate have few states"
      ],
      "execution_count": 12,
      "outputs": [
        {
          "output_type": "stream",
          "name": "stderr",
          "text": [
            "/usr/local/lib/python3.7/dist-packages/seaborn/distributions.py:2557: FutureWarning: `distplot` is a deprecated function and will be removed in a future version. Please adapt your code to use either `displot` (a figure-level function with similar flexibility) or `histplot` (an axes-level function for histograms).\n",
            "  warnings.warn(msg, FutureWarning)\n",
            "/usr/local/lib/python3.7/dist-packages/seaborn/distributions.py:2557: FutureWarning: `distplot` is a deprecated function and will be removed in a future version. Please adapt your code to use either `displot` (a figure-level function with similar flexibility) or `histplot` (an axes-level function for histograms).\n",
            "  warnings.warn(msg, FutureWarning)\n",
            "/usr/local/lib/python3.7/dist-packages/seaborn/distributions.py:2557: FutureWarning: `distplot` is a deprecated function and will be removed in a future version. Please adapt your code to use either `displot` (a figure-level function with similar flexibility) or `histplot` (an axes-level function for histograms).\n",
            "  warnings.warn(msg, FutureWarning)\n",
            "/usr/local/lib/python3.7/dist-packages/seaborn/distributions.py:2557: FutureWarning: `distplot` is a deprecated function and will be removed in a future version. Please adapt your code to use either `displot` (a figure-level function with similar flexibility) or `histplot` (an axes-level function for histograms).\n",
            "  warnings.warn(msg, FutureWarning)\n"
          ]
        },
        {
          "output_type": "display_data",
          "data": {
            "image/png": "[encoded data removed]",
            "text/plain": [
              "<Figure size 1800x504 with 4 Axes>"
            ]
          },
          "metadata": {
            "needs_background": "light"
          }
        }
      ]
    },
    {
      "cell_type": "markdown",
      "metadata": {
        "id": "AW3qPaQs47vM"
      },
      "source": [
        "# We will apply normalization on data because different fetures have different range "
      ]
    },
    {
      "cell_type": "code",
      "metadata": {
        "id": "soXCqDlS47vM"
      },
      "source": [
        "def norm_func(i):\n",
        "    x = (i-i.min())/(i.max()-i.min())\n",
        "    return (x)"
      ],
      "execution_count": 13,
      "outputs": []
    },
    {
      "cell_type": "code",
      "metadata": {
        "id": "obEgwQQj47vN"
      },
      "source": [
        "df_norm = norm_func(crime.iloc[:,1:])"
      ],
      "execution_count": 14,
      "outputs": []
    },
    {
      "cell_type": "code",
      "metadata": {
        "id": "C0AVajKV47vN",
        "colab": {
          "base_uri": "https://localhost:8080/",
          "height": 204
        },
        "outputId": "33261b59-4d50-4f8b-9907-739924f14269"
      },
      "source": [
        "df_norm.head()"
      ],
      "execution_count": 15,
      "outputs": [
        {
          "output_type": "execute_result",
          "data": {
            "text/html": [
              "<div>\n",
              "<style scoped>\n",
              "    .dataframe tbody tr th:only-of-type {\n",
              "        vertical-align: middle;\n",
              "    }\n",
              "\n",
              "    .dataframe tbody tr th {\n",
              "        vertical-align: top;\n",
              "    }\n",
              "\n",
              "    .dataframe thead th {\n",
              "        text-align: right;\n",
              "    }\n",
              "</style>\n",
              "<table border=\"1\" class=\"dataframe\">\n",
              "  <thead>\n",
              "    <tr style=\"text-align: right;\">\n",
              "      <th></th>\n",
              "      <th>Murder</th>\n",
              "      <th>Assault</th>\n",
              "      <th>UrbanPop</th>\n",
              "      <th>Rape</th>\n",
              "    </tr>\n",
              "  </thead>\n",
              "  <tbody>\n",
              "    <tr>\n",
              "      <th>0</th>\n",
              "      <td>0.746988</td>\n",
              "      <td>0.654110</td>\n",
              "      <td>0.440678</td>\n",
              "      <td>0.359173</td>\n",
              "    </tr>\n",
              "    <tr>\n",
              "      <th>1</th>\n",
              "      <td>0.554217</td>\n",
              "      <td>0.746575</td>\n",
              "      <td>0.271186</td>\n",
              "      <td>0.961240</td>\n",
              "    </tr>\n",
              "    <tr>\n",
              "      <th>2</th>\n",
              "      <td>0.439759</td>\n",
              "      <td>0.852740</td>\n",
              "      <td>0.813559</td>\n",
              "      <td>0.612403</td>\n",
              "    </tr>\n",
              "    <tr>\n",
              "      <th>3</th>\n",
              "      <td>0.481928</td>\n",
              "      <td>0.496575</td>\n",
              "      <td>0.305085</td>\n",
              "      <td>0.315245</td>\n",
              "    </tr>\n",
              "    <tr>\n",
              "      <th>4</th>\n",
              "      <td>0.493976</td>\n",
              "      <td>0.791096</td>\n",
              "      <td>1.000000</td>\n",
              "      <td>0.860465</td>\n",
              "    </tr>\n",
              "  </tbody>\n",
              "</table>\n",
              "</div>"
            ],
            "text/plain": [
              "     Murder   Assault  UrbanPop      Rape\n",
              "0  0.746988  0.654110  0.440678  0.359173\n",
              "1  0.554217  0.746575  0.271186  0.961240\n",
              "2  0.439759  0.852740  0.813559  0.612403\n",
              "3  0.481928  0.496575  0.305085  0.315245\n",
              "4  0.493976  0.791096  1.000000  0.860465"
            ]
          },
          "metadata": {},
          "execution_count": 15
        }
      ]
    },
    {
      "cell_type": "markdown",
      "metadata": {
        "id": "NMeSTS9o47vO"
      },
      "source": [
        "# First we will apply the hierarchical clustering on crime data\n",
        "\n",
        "> Indented block\n",
        "\n",
        "\n",
        "**Now we will make dendogram for understanding of cluster**\n",
        "\n",
        "**First we will use single linkage method**"
      ]
    },
    {
      "cell_type": "code",
      "metadata": {
        "id": "GShpOarj47vO",
        "colab": {
          "base_uri": "https://localhost:8080/",
          "height": 266
        },
        "outputId": "6e34812b-7fdc-4421-a873-24238f6aa572"
      },
      "source": [
        "dendrogram = sch.dendrogram(sch.linkage(df_norm, method='single'))\n",
        "##We can see in dendogram here only 2 clusters have different hight so we will take two cluster "
      ],
      "execution_count": 16,
      "outputs": [
        {
          "output_type": "display_data",
          "data": {
            "image/png": "[encoded data removed]",
            "text/plain": [
              "<Figure size 432x288 with 1 Axes>"
            ]
          },
          "metadata": {
            "needs_background": "light"
          }
        }
      ]
    },
    {
      "cell_type": "code",
      "metadata": {
        "id": "BHS18EFK47vP"
      },
      "source": [
        "hc = AgglomerativeClustering(n_clusters=2, affinity = 'euclidean', linkage = 'single')"
      ],
      "execution_count": 17,
      "outputs": []
    },
    {
      "cell_type": "code",
      "metadata": {
        "id": "1EX4NrNQ47vP"
      },
      "source": [
        "y_hc1 = hc.fit_predict(df_norm)\n",
        "Clusters=pd.DataFrame(y_hc1,columns=['Clusters'])"
      ],
      "execution_count": 18,
      "outputs": []
    },
    {
      "cell_type": "code",
      "metadata": {
        "id": "ARYeX5QB47vP"
      },
      "source": [
        "crime['cluster'] = y_hc1"
      ],
      "execution_count": 19,
      "outputs": []
    },
    {
      "cell_type": "code",
      "metadata": {
        "id": "6oH5U8uL47vQ",
        "colab": {
          "base_uri": "https://localhost:8080/",
          "height": 142
        },
        "outputId": "b5062282-cf17-4a3d-97cc-1622ee20cdb9"
      },
      "source": [
        "crime.groupby('cluster').agg(['mean']).reset_index()"
      ],
      "execution_count": 20,
      "outputs": [
        {
          "output_type": "execute_result",
          "data": {
            "text/html": [
              "<div>\n",
              "<style scoped>\n",
              "    .dataframe tbody tr th:only-of-type {\n",
              "        vertical-align: middle;\n",
              "    }\n",
              "\n",
              "    .dataframe tbody tr th {\n",
              "        vertical-align: top;\n",
              "    }\n",
              "\n",
              "    .dataframe thead tr th {\n",
              "        text-align: left;\n",
              "    }\n",
              "</style>\n",
              "<table border=\"1\" class=\"dataframe\">\n",
              "  <thead>\n",
              "    <tr>\n",
              "      <th></th>\n",
              "      <th>cluster</th>\n",
              "      <th>Murder</th>\n",
              "      <th>Assault</th>\n",
              "      <th>UrbanPop</th>\n",
              "      <th>Rape</th>\n",
              "    </tr>\n",
              "    <tr>\n",
              "      <th></th>\n",
              "      <th></th>\n",
              "      <th>mean</th>\n",
              "      <th>mean</th>\n",
              "      <th>mean</th>\n",
              "      <th>mean</th>\n",
              "    </tr>\n",
              "  </thead>\n",
              "  <tbody>\n",
              "    <tr>\n",
              "      <th>0</th>\n",
              "      <td>0</td>\n",
              "      <td>7.742857</td>\n",
              "      <td>168.877551</td>\n",
              "      <td>65.897959</td>\n",
              "      <td>20.757143</td>\n",
              "    </tr>\n",
              "    <tr>\n",
              "      <th>1</th>\n",
              "      <td>1</td>\n",
              "      <td>10.000000</td>\n",
              "      <td>263.000000</td>\n",
              "      <td>48.000000</td>\n",
              "      <td>44.500000</td>\n",
              "    </tr>\n",
              "  </tbody>\n",
              "</table>\n",
              "</div>"
            ],
            "text/plain": [
              "  cluster     Murder     Assault   UrbanPop       Rape\n",
              "                mean        mean       mean       mean\n",
              "0       0   7.742857  168.877551  65.897959  20.757143\n",
              "1       1  10.000000  263.000000  48.000000  44.500000"
            ]
          },
          "metadata": {},
          "execution_count": 20
        }
      ]
    },
    {
      "cell_type": "code",
      "metadata": {
        "id": "UPXe6m6D47vQ",
        "colab": {
          "base_uri": "https://localhost:8080/"
        },
        "outputId": "3d19da24-4f6c-4ce0-8714-2f7ed7e85911"
      },
      "source": [
        "for i in range(2):\n",
        "    print(\"cluster\", i)\n",
        "    print(\"The Members:\", ' | '.join(list(crime[crime['cluster'] == i]['state'].values)))\n",
        "    print(\"Total Members:\", len(list(crime[crime['cluster'] == i]['state'].values)))\n",
        "    print()"
      ],
      "execution_count": 21,
      "outputs": [
        {
          "output_type": "stream",
          "name": "stdout",
          "text": [
            "cluster 0\n",
            "The Members: Alabama | Arizona | Arkansas | California | Colorado | Connecticut | Delaware | Florida | Georgia | Hawaii | Idaho | Illinois | Indiana | Iowa | Kansas | Kentucky | Louisiana | Maine | Maryland | Massachusetts | Michigan | Minnesota | Mississippi | Missouri | Montana | Nebraska | Nevada | New Hampshire | New Jersey | New Mexico | New York | North Carolina | North Dakota | Ohio | Oklahoma | Oregon | Pennsylvania | Rhode Island | South Carolina | South Dakota | Tennessee | Texas | Utah | Vermont | Virginia | Washington | West Virginia | Wisconsin | Wyoming\n",
            "Total Members: 49\n",
            "\n",
            "cluster 1\n",
            "The Members: Alaska\n",
            "Total Members: 1\n",
            "\n"
          ]
        }
      ]
    },
    {
      "cell_type": "markdown",
      "metadata": {
        "id": "yGHaZwUC47vR"
      },
      "source": [
        "# We can clearly see this method is not giving proper result so we will try different method for identify best no. of clusters\n",
        "**Now we will apply the average linkage method**"
      ]
    },
    {
      "cell_type": "code",
      "metadata": {
        "id": "czUgmW9g47vR"
      },
      "source": [
        "crime = pd.read_csv(\"/content/drive/MyDrive/Colab Notebooks/crime_data (1).csv\")\n",
        "crime.rename(columns={\"Unnamed: 0\":\"state\"},inplace=True)"
      ],
      "execution_count": 23,
      "outputs": []
    },
    {
      "cell_type": "code",
      "metadata": {
        "id": "SDqsWTQA47vS"
      },
      "source": [
        "def norm_func(i):\n",
        "    x = (i-i.min())/(i.max()-i.min())\n",
        "    return (x)\n",
        "df_norm = norm_func(crime.iloc[:,1:])"
      ],
      "execution_count": 24,
      "outputs": []
    },
    {
      "cell_type": "code",
      "metadata": {
        "id": "yfvXHzjY47vS",
        "colab": {
          "base_uri": "https://localhost:8080/",
          "height": 266
        },
        "outputId": "3ceae90c-f456-48cf-ca7b-64c0869f1ebe"
      },
      "source": [
        "\n",
        "dendrogram = sch.dendrogram(sch.linkage(df_norm, method='average'))\n",
        "##We can see in dendogram here only 4 clusters have different hight so we will take four cluster "
      ],
      "execution_count": 25,
      "outputs": [
        {
          "output_type": "display_data",
          "data": {
            "image/png": "[encoded data removed]",
            "text/plain": [
              "<Figure size 432x288 with 1 Axes>"
            ]
          },
          "metadata": {
            "needs_background": "light"
          }
        }
      ]
    },
    {
      "cell_type": "code",
      "metadata": {
        "id": "dkVCEZml47vT"
      },
      "source": [
        "hc = AgglomerativeClustering(n_clusters=4, affinity = 'euclidean', linkage = 'average')"
      ],
      "execution_count": 26,
      "outputs": []
    },
    {
      "cell_type": "code",
      "metadata": {
        "id": "-Z_Tqa8g47vT"
      },
      "source": [
        "y_hc2 = hc.fit_predict(df_norm)\n",
        "Clusters=pd.DataFrame(y_hc2,columns=['Clusters'])"
      ],
      "execution_count": 27,
      "outputs": []
    },
    {
      "cell_type": "code",
      "metadata": {
        "id": "NeSH8M5I47vT"
      },
      "source": [
        "crime['cluster'] = y_hc2"
      ],
      "execution_count": 28,
      "outputs": []
    },
    {
      "cell_type": "code",
      "metadata": {
        "id": "3wV2Quxt47vU",
        "colab": {
          "base_uri": "https://localhost:8080/",
          "height": 204
        },
        "outputId": "ff967562-37fd-45c3-bead-8a5c02200e96"
      },
      "source": [
        "crime.groupby('cluster').agg(['mean']).reset_index()"
      ],
      "execution_count": 29,
      "outputs": [
        {
          "output_type": "execute_result",
          "data": {
            "text/html": [
              "<div>\n",
              "<style scoped>\n",
              "    .dataframe tbody tr th:only-of-type {\n",
              "        vertical-align: middle;\n",
              "    }\n",
              "\n",
              "    .dataframe tbody tr th {\n",
              "        vertical-align: top;\n",
              "    }\n",
              "\n",
              "    .dataframe thead tr th {\n",
              "        text-align: left;\n",
              "    }\n",
              "</style>\n",
              "<table border=\"1\" class=\"dataframe\">\n",
              "  <thead>\n",
              "    <tr>\n",
              "      <th></th>\n",
              "      <th>cluster</th>\n",
              "      <th>Murder</th>\n",
              "      <th>Assault</th>\n",
              "      <th>UrbanPop</th>\n",
              "      <th>Rape</th>\n",
              "    </tr>\n",
              "    <tr>\n",
              "      <th></th>\n",
              "      <th></th>\n",
              "      <th>mean</th>\n",
              "      <th>mean</th>\n",
              "      <th>mean</th>\n",
              "      <th>mean</th>\n",
              "    </tr>\n",
              "  </thead>\n",
              "  <tbody>\n",
              "    <tr>\n",
              "      <th>0</th>\n",
              "      <td>0</td>\n",
              "      <td>4.870000</td>\n",
              "      <td>114.433333</td>\n",
              "      <td>63.633333</td>\n",
              "      <td>15.943333</td>\n",
              "    </tr>\n",
              "    <tr>\n",
              "      <th>1</th>\n",
              "      <td>1</td>\n",
              "      <td>10.883333</td>\n",
              "      <td>256.916667</td>\n",
              "      <td>78.333333</td>\n",
              "      <td>32.250000</td>\n",
              "    </tr>\n",
              "    <tr>\n",
              "      <th>2</th>\n",
              "      <td>2</td>\n",
              "      <td>10.000000</td>\n",
              "      <td>263.000000</td>\n",
              "      <td>48.000000</td>\n",
              "      <td>44.500000</td>\n",
              "    </tr>\n",
              "    <tr>\n",
              "      <th>3</th>\n",
              "      <td>3</td>\n",
              "      <td>14.671429</td>\n",
              "      <td>251.285714</td>\n",
              "      <td>54.285714</td>\n",
              "      <td>21.685714</td>\n",
              "    </tr>\n",
              "  </tbody>\n",
              "</table>\n",
              "</div>"
            ],
            "text/plain": [
              "  cluster     Murder     Assault   UrbanPop       Rape\n",
              "                mean        mean       mean       mean\n",
              "0       0   4.870000  114.433333  63.633333  15.943333\n",
              "1       1  10.883333  256.916667  78.333333  32.250000\n",
              "2       2  10.000000  263.000000  48.000000  44.500000\n",
              "3       3  14.671429  251.285714  54.285714  21.685714"
            ]
          },
          "metadata": {},
          "execution_count": 29
        }
      ]
    },
    {
      "cell_type": "code",
      "metadata": {
        "id": "vKrbaoO-47vU",
        "colab": {
          "base_uri": "https://localhost:8080/"
        },
        "outputId": "f5c3f47f-2926-44eb-9ce1-c21d16e90f26"
      },
      "source": [
        "for i in range(4):\n",
        "    print(\"cluster\", i)\n",
        "    print(\"The Members:\", ' | '.join(list(crime[crime['cluster'] == i]['state'].values)))\n",
        "    print(\"Total Members:\", len(list(crime[crime['cluster'] == i]['state'].values)))\n",
        "    print()"
      ],
      "execution_count": 30,
      "outputs": [
        {
          "output_type": "stream",
          "name": "stdout",
          "text": [
            "cluster 0\n",
            "The Members: Arkansas | Connecticut | Delaware | Hawaii | Idaho | Indiana | Iowa | Kansas | Kentucky | Maine | Massachusetts | Minnesota | Montana | Nebraska | New Hampshire | New Jersey | North Dakota | Ohio | Oklahoma | Oregon | Pennsylvania | Rhode Island | South Dakota | Utah | Vermont | Virginia | Washington | West Virginia | Wisconsin | Wyoming\n",
            "Total Members: 30\n",
            "\n",
            "cluster 1\n",
            "The Members: Arizona | California | Colorado | Florida | Illinois | Maryland | Michigan | Missouri | Nevada | New Mexico | New York | Texas\n",
            "Total Members: 12\n",
            "\n",
            "cluster 2\n",
            "The Members: Alaska\n",
            "Total Members: 1\n",
            "\n",
            "cluster 3\n",
            "The Members: Alabama | Georgia | Louisiana | Mississippi | North Carolina | South Carolina | Tennessee\n",
            "Total Members: 7\n",
            "\n"
          ]
        }
      ]
    },
    {
      "cell_type": "markdown",
      "metadata": {
        "id": "l9fMkeqc47vV"
      },
      "source": [
        "# **Now we will apply the complete linkage method**"
      ]
    },
    {
      "cell_type": "code",
      "metadata": {
        "id": "o3gshzi-47vV"
      },
      "source": [
        "crime = pd.read_csv(\"/content/drive/MyDrive/Colab Notebooks/crime_data (1).csv\")\n",
        "crime.rename(columns={\"Unnamed: 0\":\"state\"},inplace=True)"
      ],
      "execution_count": 31,
      "outputs": []
    },
    {
      "cell_type": "code",
      "metadata": {
        "id": "exkflxNu47vV"
      },
      "source": [
        "def norm_func(i):\n",
        "    x = (i-i.min())/(i.max()-i.min())\n",
        "    return (x)\n",
        "df_norm = norm_func(crime.iloc[:,1:])"
      ],
      "execution_count": 32,
      "outputs": []
    },
    {
      "cell_type": "code",
      "metadata": {
        "id": "P0sHkcGd47vW",
        "colab": {
          "base_uri": "https://localhost:8080/",
          "height": 266
        },
        "outputId": "f968feb7-551f-4477-a38a-0602723cda5b"
      },
      "source": [
        "dendrogram = sch.dendrogram(sch.linkage(df_norm, method='complete'))"
      ],
      "execution_count": 33,
      "outputs": [
        {
          "output_type": "display_data",
          "data": {
            "image/png": "[encoded data removed]",
            "text/plain": [
              "<Figure size 432x288 with 1 Axes>"
            ]
          },
          "metadata": {
            "needs_background": "light"
          }
        }
      ]
    },
    {
      "cell_type": "code",
      "metadata": {
        "id": "5o1kdNvd47vW"
      },
      "source": [
        "hc = AgglomerativeClustering(n_clusters=4, affinity = 'euclidean', linkage = 'complete')"
      ],
      "execution_count": 34,
      "outputs": []
    },
    {
      "cell_type": "code",
      "metadata": {
        "id": "MXFNboO047vX"
      },
      "source": [
        "y_hc3 = hc.fit_predict(df_norm)\n",
        "Clusters=pd.DataFrame(y_hc3,columns=['Clusters'])"
      ],
      "execution_count": 35,
      "outputs": []
    },
    {
      "cell_type": "code",
      "metadata": {
        "id": "YZh1CfFi47vX"
      },
      "source": [
        "crime['cluster'] = y_hc3"
      ],
      "execution_count": 36,
      "outputs": []
    },
    {
      "cell_type": "code",
      "metadata": {
        "id": "Zpty9N-l47vX",
        "colab": {
          "base_uri": "https://localhost:8080/",
          "height": 204
        },
        "outputId": "d86465f7-1f44-477a-bd78-f9cd675d3bd5"
      },
      "source": [
        "crime.groupby('cluster').agg(['mean']).reset_index()"
      ],
      "execution_count": 37,
      "outputs": [
        {
          "output_type": "execute_result",
          "data": {
            "text/html": [
              "<div>\n",
              "<style scoped>\n",
              "    .dataframe tbody tr th:only-of-type {\n",
              "        vertical-align: middle;\n",
              "    }\n",
              "\n",
              "    .dataframe tbody tr th {\n",
              "        vertical-align: top;\n",
              "    }\n",
              "\n",
              "    .dataframe thead tr th {\n",
              "        text-align: left;\n",
              "    }\n",
              "</style>\n",
              "<table border=\"1\" class=\"dataframe\">\n",
              "  <thead>\n",
              "    <tr>\n",
              "      <th></th>\n",
              "      <th>cluster</th>\n",
              "      <th>Murder</th>\n",
              "      <th>Assault</th>\n",
              "      <th>UrbanPop</th>\n",
              "      <th>Rape</th>\n",
              "    </tr>\n",
              "    <tr>\n",
              "      <th></th>\n",
              "      <th></th>\n",
              "      <th>mean</th>\n",
              "      <th>mean</th>\n",
              "      <th>mean</th>\n",
              "      <th>mean</th>\n",
              "    </tr>\n",
              "  </thead>\n",
              "  <tbody>\n",
              "    <tr>\n",
              "      <th>0</th>\n",
              "      <td>0</td>\n",
              "      <td>14.087500</td>\n",
              "      <td>252.750000</td>\n",
              "      <td>53.500000</td>\n",
              "      <td>24.5375</td>\n",
              "    </tr>\n",
              "    <tr>\n",
              "      <th>1</th>\n",
              "      <td>1</td>\n",
              "      <td>5.715000</td>\n",
              "      <td>132.300000</td>\n",
              "      <td>70.800000</td>\n",
              "      <td>18.1000</td>\n",
              "    </tr>\n",
              "    <tr>\n",
              "      <th>2</th>\n",
              "      <td>2</td>\n",
              "      <td>3.180000</td>\n",
              "      <td>78.700000</td>\n",
              "      <td>49.300000</td>\n",
              "      <td>11.6300</td>\n",
              "    </tr>\n",
              "    <tr>\n",
              "      <th>3</th>\n",
              "      <td>3</td>\n",
              "      <td>10.883333</td>\n",
              "      <td>256.916667</td>\n",
              "      <td>78.333333</td>\n",
              "      <td>32.2500</td>\n",
              "    </tr>\n",
              "  </tbody>\n",
              "</table>\n",
              "</div>"
            ],
            "text/plain": [
              "  cluster     Murder     Assault   UrbanPop     Rape\n",
              "                mean        mean       mean     mean\n",
              "0       0  14.087500  252.750000  53.500000  24.5375\n",
              "1       1   5.715000  132.300000  70.800000  18.1000\n",
              "2       2   3.180000   78.700000  49.300000  11.6300\n",
              "3       3  10.883333  256.916667  78.333333  32.2500"
            ]
          },
          "metadata": {},
          "execution_count": 37
        }
      ]
    },
    {
      "cell_type": "code",
      "metadata": {
        "id": "Vu76gVBU47vY",
        "colab": {
          "base_uri": "https://localhost:8080/"
        },
        "outputId": "f8d90f7a-94d3-4b0e-b74f-55a20fde6b1a"
      },
      "source": [
        "for i in range(4):\n",
        "    print(\"cluster\", i)\n",
        "    print(\"The Members:\", ' | '.join(list(crime[crime['cluster'] == i]['state'].values)))\n",
        "    print(\"Total Members:\", len(list(crime[crime['cluster'] == i]['state'].values)))\n",
        "    print()\n",
        "    ##He gives better result but we explore all other method"
      ],
      "execution_count": 38,
      "outputs": [
        {
          "output_type": "stream",
          "name": "stdout",
          "text": [
            "cluster 0\n",
            "The Members: Alabama | Alaska | Georgia | Louisiana | Mississippi | North Carolina | South Carolina | Tennessee\n",
            "Total Members: 8\n",
            "\n",
            "cluster 1\n",
            "The Members: Arkansas | Connecticut | Delaware | Hawaii | Indiana | Kansas | Kentucky | Massachusetts | Minnesota | New Jersey | Ohio | Oklahoma | Oregon | Pennsylvania | Rhode Island | Utah | Virginia | Washington | Wisconsin | Wyoming\n",
            "Total Members: 20\n",
            "\n",
            "cluster 2\n",
            "The Members: Idaho | Iowa | Maine | Montana | Nebraska | New Hampshire | North Dakota | South Dakota | Vermont | West Virginia\n",
            "Total Members: 10\n",
            "\n",
            "cluster 3\n",
            "The Members: Arizona | California | Colorado | Florida | Illinois | Maryland | Michigan | Missouri | Nevada | New Mexico | New York | Texas\n",
            "Total Members: 12\n",
            "\n"
          ]
        }
      ]
    },
    {
      "cell_type": "markdown",
      "metadata": {
        "id": "fLaQVlaV47vY"
      },
      "source": [
        "# **Now we will apply the ward(centroid) linkage method**"
      ]
    },
    {
      "cell_type": "code",
      "metadata": {
        "id": "IEoiewN847vZ"
      },
      "source": [
        "crime = pd.read_csv(\"/content/drive/MyDrive/Colab Notebooks/crime_data (1).csv\")\n",
        "crime.rename(columns={\"Unnamed: 0\":\"state\"},inplace=True)"
      ],
      "execution_count": 39,
      "outputs": []
    },
    {
      "cell_type": "code",
      "metadata": {
        "id": "T9MG0sx647vZ"
      },
      "source": [
        "def norm_func(i):\n",
        "    x = (i-i.min())/(i.max()-i.min())\n",
        "    return (x)\n",
        "df_norm = norm_func(crime.iloc[:,1:])"
      ],
      "execution_count": 40,
      "outputs": []
    },
    {
      "cell_type": "code",
      "metadata": {
        "id": "QMocKtCT47vZ",
        "colab": {
          "base_uri": "https://localhost:8080/",
          "height": 266
        },
        "outputId": "b01ee04e-e027-4d09-b232-1f1ed587418b"
      },
      "source": [
        "dendrogram = sch.dendrogram(sch.linkage(df_norm, method='ward'))"
      ],
      "execution_count": 41,
      "outputs": [
        {
          "output_type": "display_data",
          "data": {
            "image/png": "[encoded data removed]",
            "text/plain": [
              "<Figure size 432x288 with 1 Axes>"
            ]
          },
          "metadata": {
            "needs_background": "light"
          }
        }
      ]
    },
    {
      "cell_type": "code",
      "metadata": {
        "id": "IrWBJ34o47va"
      },
      "source": [
        "hc = AgglomerativeClustering(n_clusters=4, affinity = 'euclidean', linkage = 'ward')"
      ],
      "execution_count": 42,
      "outputs": []
    },
    {
      "cell_type": "code",
      "metadata": {
        "id": "kZBwJu3v47va"
      },
      "source": [
        "y_hc4 = hc.fit_predict(df_norm)\n",
        "Clusters=pd.DataFrame(y_hc4,columns=['Clusters'])"
      ],
      "execution_count": 43,
      "outputs": []
    },
    {
      "cell_type": "code",
      "metadata": {
        "id": "BNLj5SCi47vb"
      },
      "source": [
        "crime['cluster'] = y_hc4"
      ],
      "execution_count": 44,
      "outputs": []
    },
    {
      "cell_type": "code",
      "metadata": {
        "id": "cWFyxTkA47vb",
        "colab": {
          "base_uri": "https://localhost:8080/",
          "height": 204
        },
        "outputId": "576d1241-ec10-4936-8f61-2be77440a945"
      },
      "source": [
        "crime.groupby('cluster').agg(['mean']).reset_index()"
      ],
      "execution_count": 45,
      "outputs": [
        {
          "output_type": "execute_result",
          "data": {
            "text/html": [
              "<div>\n",
              "<style scoped>\n",
              "    .dataframe tbody tr th:only-of-type {\n",
              "        vertical-align: middle;\n",
              "    }\n",
              "\n",
              "    .dataframe tbody tr th {\n",
              "        vertical-align: top;\n",
              "    }\n",
              "\n",
              "    .dataframe thead tr th {\n",
              "        text-align: left;\n",
              "    }\n",
              "</style>\n",
              "<table border=\"1\" class=\"dataframe\">\n",
              "  <thead>\n",
              "    <tr>\n",
              "      <th></th>\n",
              "      <th>cluster</th>\n",
              "      <th>Murder</th>\n",
              "      <th>Assault</th>\n",
              "      <th>UrbanPop</th>\n",
              "      <th>Rape</th>\n",
              "    </tr>\n",
              "    <tr>\n",
              "      <th></th>\n",
              "      <th></th>\n",
              "      <th>mean</th>\n",
              "      <th>mean</th>\n",
              "      <th>mean</th>\n",
              "      <th>mean</th>\n",
              "    </tr>\n",
              "  </thead>\n",
              "  <tbody>\n",
              "    <tr>\n",
              "      <th>0</th>\n",
              "      <td>0</td>\n",
              "      <td>6.055556</td>\n",
              "      <td>140.055556</td>\n",
              "      <td>71.333333</td>\n",
              "      <td>18.683333</td>\n",
              "    </tr>\n",
              "    <tr>\n",
              "      <th>1</th>\n",
              "      <td>1</td>\n",
              "      <td>10.815385</td>\n",
              "      <td>257.384615</td>\n",
              "      <td>76.000000</td>\n",
              "      <td>33.192308</td>\n",
              "    </tr>\n",
              "    <tr>\n",
              "      <th>2</th>\n",
              "      <td>2</td>\n",
              "      <td>3.091667</td>\n",
              "      <td>76.000000</td>\n",
              "      <td>52.083333</td>\n",
              "      <td>11.833333</td>\n",
              "    </tr>\n",
              "    <tr>\n",
              "      <th>3</th>\n",
              "      <td>3</td>\n",
              "      <td>14.671429</td>\n",
              "      <td>251.285714</td>\n",
              "      <td>54.285714</td>\n",
              "      <td>21.685714</td>\n",
              "    </tr>\n",
              "  </tbody>\n",
              "</table>\n",
              "</div>"
            ],
            "text/plain": [
              "  cluster     Murder     Assault   UrbanPop       Rape\n",
              "                mean        mean       mean       mean\n",
              "0       0   6.055556  140.055556  71.333333  18.683333\n",
              "1       1  10.815385  257.384615  76.000000  33.192308\n",
              "2       2   3.091667   76.000000  52.083333  11.833333\n",
              "3       3  14.671429  251.285714  54.285714  21.685714"
            ]
          },
          "metadata": {},
          "execution_count": 45
        }
      ]
    },
    {
      "cell_type": "code",
      "metadata": {
        "id": "p-gslmn747vb",
        "colab": {
          "base_uri": "https://localhost:8080/"
        },
        "outputId": "dd686bf2-f21b-46da-90db-5a6955fd9533"
      },
      "source": [
        "for i in range(4):\n",
        "    print(\"cluster\", i)\n",
        "    print(\"The Members:\", ' | '.join(list(crime[crime['cluster'] == i]['state'].values)))\n",
        "    print(\"Total Members:\", len(list(crime[crime['cluster'] == i]['state'].values)))\n",
        "    print()\n",
        "    ##He also gives the better result"
      ],
      "execution_count": 46,
      "outputs": [
        {
          "output_type": "stream",
          "name": "stdout",
          "text": [
            "cluster 0\n",
            "The Members: Arkansas | Connecticut | Delaware | Hawaii | Indiana | Kansas | Kentucky | Massachusetts | New Jersey | Ohio | Oklahoma | Oregon | Pennsylvania | Rhode Island | Utah | Virginia | Washington | Wyoming\n",
            "Total Members: 18\n",
            "\n",
            "cluster 1\n",
            "The Members: Alaska | Arizona | California | Colorado | Florida | Illinois | Maryland | Michigan | Missouri | Nevada | New Mexico | New York | Texas\n",
            "Total Members: 13\n",
            "\n",
            "cluster 2\n",
            "The Members: Idaho | Iowa | Maine | Minnesota | Montana | Nebraska | New Hampshire | North Dakota | South Dakota | Vermont | West Virginia | Wisconsin\n",
            "Total Members: 12\n",
            "\n",
            "cluster 3\n",
            "The Members: Alabama | Georgia | Louisiana | Mississippi | North Carolina | South Carolina | Tennessee\n",
            "Total Members: 7\n",
            "\n"
          ]
        }
      ]
    },
    {
      "cell_type": "markdown",
      "metadata": {
        "id": "B81q0yHm47ve"
      },
      "source": [
        "# Now we will apply the K means clustring for cross check the results of hierarchical clustering"
      ]
    },
    {
      "cell_type": "code",
      "metadata": {
        "id": "WOaD7_IA47vf"
      },
      "source": [
        "crime = pd.read_csv(\"/content/drive/MyDrive/Colab Notebooks/crime_data (1).csv\")\n",
        "crime.rename(columns={\"Unnamed: 0\":\"state\"},inplace=True)"
      ],
      "execution_count": 47,
      "outputs": []
    },
    {
      "cell_type": "code",
      "metadata": {
        "id": "0FwRVPFo47vf"
      },
      "source": [
        "#from sklearn.preprocessing import StandardScaler\n",
        "#scaler = StandardScaler()\n",
        "#scaled_crime_df = scaler.fit_transform(crime.iloc[:,1:])\n",
        "def norm_func(i):\n",
        "    x = (i-i.min())/(i.max()-i.min())\n",
        "    return (x)\n",
        "df_norm = norm_func(crime.iloc[:,1:])"
      ],
      "execution_count": 48,
      "outputs": []
    },
    {
      "cell_type": "code",
      "metadata": {
        "id": "uSYw4sRk47vg",
        "colab": {
          "base_uri": "https://localhost:8080/",
          "height": 295
        },
        "outputId": "cddf78d9-82f3-4f58-f3c5-7be129cefddb"
      },
      "source": [
        "from sklearn.cluster import KMeans\n",
        "wcss = []\n",
        "for i in range(1, 11):\n",
        "    kmeans = KMeans(n_clusters=i,random_state=0)\n",
        "    kmeans.fit(df_norm)\n",
        "    wcss.append(kmeans.inertia_)\n",
        "    \n",
        "plt.plot(range(1, 11), wcss)\n",
        "plt.title('Elbow Method')\n",
        "plt.xlabel('Number of clusters')\n",
        "plt.ylabel('WCSS')\n",
        "plt.show()"
      ],
      "execution_count": 49,
      "outputs": [
        {
          "output_type": "display_data",
          "data": {
            "image/png": "[encoded data removed]",
            "text/plain": [
              "<Figure size 432x288 with 1 Axes>"
            ]
          },
          "metadata": {
            "needs_background": "light"
          }
        }
      ]
    },
    {
      "cell_type": "code",
      "metadata": {
        "id": "jYJk52XD47vi",
        "colab": {
          "base_uri": "https://localhost:8080/"
        },
        "outputId": "9fc1d742-e1ba-4465-f68d-f2f46ca9ec1b"
      },
      "source": [
        "from sklearn.cluster import KMeans\n",
        "clusters_new = KMeans(4, random_state=42)\n",
        "clusters_new.fit(df_norm)"
      ],
      "execution_count": 50,
      "outputs": [
        {
          "output_type": "execute_result",
          "data": {
            "text/plain": [
              "KMeans(algorithm='auto', copy_x=True, init='k-means++', max_iter=300,\n",
              "       n_clusters=4, n_init=10, n_jobs=None, precompute_distances='auto',\n",
              "       random_state=42, tol=0.0001, verbose=0)"
            ]
          },
          "metadata": {},
          "execution_count": 50
        }
      ]
    },
    {
      "cell_type": "code",
      "metadata": {
        "id": "5k_zlv3547vk"
      },
      "source": [
        "KM_label=clusters_new.labels_"
      ],
      "execution_count": 51,
      "outputs": []
    },
    {
      "cell_type": "code",
      "metadata": {
        "id": "eDkYzS0q47vk"
      },
      "source": [
        "crime['cluster'] = clusters_new.labels_"
      ],
      "execution_count": 52,
      "outputs": []
    },
    {
      "cell_type": "code",
      "metadata": {
        "id": "kBG1kz1947vl",
        "colab": {
          "base_uri": "https://localhost:8080/"
        },
        "outputId": "b57c91a7-b2c9-4712-b4d7-d836c9e789ca"
      },
      "source": [
        "clusters_new.cluster_centers_"
      ],
      "execution_count": 53,
      "outputs": [
        {
          "output_type": "execute_result",
          "data": {
            "text/plain": [
              "array([[0.30439405, 0.32937147, 0.70588235, 0.31098951],\n",
              "       [0.79141566, 0.6802226 , 0.36864407, 0.36466408],\n",
              "       [0.1686747 , 0.11485774, 0.34028683, 0.12601868],\n",
              "       [0.6124498 , 0.75      , 0.75423729, 0.67980189]])"
            ]
          },
          "metadata": {},
          "execution_count": 53
        }
      ]
    },
    {
      "cell_type": "code",
      "metadata": {
        "id": "zYA7uKMo47vm",
        "colab": {
          "base_uri": "https://localhost:8080/",
          "height": 204
        },
        "outputId": "773cce23-e48c-4191-b799-7aecd3034f38"
      },
      "source": [
        "crime.groupby('cluster').agg(['mean']).reset_index()"
      ],
      "execution_count": 54,
      "outputs": [
        {
          "output_type": "execute_result",
          "data": {
            "text/html": [
              "<div>\n",
              "<style scoped>\n",
              "    .dataframe tbody tr th:only-of-type {\n",
              "        vertical-align: middle;\n",
              "    }\n",
              "\n",
              "    .dataframe tbody tr th {\n",
              "        vertical-align: top;\n",
              "    }\n",
              "\n",
              "    .dataframe thead tr th {\n",
              "        text-align: left;\n",
              "    }\n",
              "</style>\n",
              "<table border=\"1\" class=\"dataframe\">\n",
              "  <thead>\n",
              "    <tr>\n",
              "      <th></th>\n",
              "      <th>cluster</th>\n",
              "      <th>Murder</th>\n",
              "      <th>Assault</th>\n",
              "      <th>UrbanPop</th>\n",
              "      <th>Rape</th>\n",
              "    </tr>\n",
              "    <tr>\n",
              "      <th></th>\n",
              "      <th></th>\n",
              "      <th>mean</th>\n",
              "      <th>mean</th>\n",
              "      <th>mean</th>\n",
              "      <th>mean</th>\n",
              "    </tr>\n",
              "  </thead>\n",
              "  <tbody>\n",
              "    <tr>\n",
              "      <th>0</th>\n",
              "      <td>0</td>\n",
              "      <td>5.852941</td>\n",
              "      <td>141.176471</td>\n",
              "      <td>73.647059</td>\n",
              "      <td>19.335294</td>\n",
              "    </tr>\n",
              "    <tr>\n",
              "      <th>1</th>\n",
              "      <td>1</td>\n",
              "      <td>13.937500</td>\n",
              "      <td>243.625000</td>\n",
              "      <td>53.750000</td>\n",
              "      <td>21.412500</td>\n",
              "    </tr>\n",
              "    <tr>\n",
              "      <th>2</th>\n",
              "      <td>2</td>\n",
              "      <td>3.600000</td>\n",
              "      <td>78.538462</td>\n",
              "      <td>52.076923</td>\n",
              "      <td>12.176923</td>\n",
              "    </tr>\n",
              "    <tr>\n",
              "      <th>3</th>\n",
              "      <td>3</td>\n",
              "      <td>10.966667</td>\n",
              "      <td>264.000000</td>\n",
              "      <td>76.500000</td>\n",
              "      <td>33.608333</td>\n",
              "    </tr>\n",
              "  </tbody>\n",
              "</table>\n",
              "</div>"
            ],
            "text/plain": [
              "  cluster     Murder     Assault   UrbanPop       Rape\n",
              "                mean        mean       mean       mean\n",
              "0       0   5.852941  141.176471  73.647059  19.335294\n",
              "1       1  13.937500  243.625000  53.750000  21.412500\n",
              "2       2   3.600000   78.538462  52.076923  12.176923\n",
              "3       3  10.966667  264.000000  76.500000  33.608333"
            ]
          },
          "metadata": {},
          "execution_count": 54
        }
      ]
    },
    {
      "cell_type": "code",
      "metadata": {
        "id": "-8OzBPzc47vn",
        "colab": {
          "base_uri": "https://localhost:8080/"
        },
        "outputId": "7504cdc3-379c-447b-d288-dee9dda68374"
      },
      "source": [
        "for i in range(4):\n",
        "    print(\"cluster\", i)\n",
        "    print(\"The Members:\", ' | '.join(list(crime[crime['cluster'] == i]['state'].values)))\n",
        "    print(\"Total Members:\", len(list(crime[crime['cluster'] == i]['state'].values)))\n",
        "    print()"
      ],
      "execution_count": 55,
      "outputs": [
        {
          "output_type": "stream",
          "name": "stdout",
          "text": [
            "cluster 0\n",
            "The Members: Connecticut | Delaware | Hawaii | Indiana | Kansas | Massachusetts | Missouri | New Jersey | Ohio | Oklahoma | Oregon | Pennsylvania | Rhode Island | Utah | Virginia | Washington | Wyoming\n",
            "Total Members: 17\n",
            "\n",
            "cluster 1\n",
            "The Members: Alabama | Arkansas | Georgia | Louisiana | Mississippi | North Carolina | South Carolina | Tennessee\n",
            "Total Members: 8\n",
            "\n",
            "cluster 2\n",
            "The Members: Idaho | Iowa | Kentucky | Maine | Minnesota | Montana | Nebraska | New Hampshire | North Dakota | South Dakota | Vermont | West Virginia | Wisconsin\n",
            "Total Members: 13\n",
            "\n",
            "cluster 3\n",
            "The Members: Alaska | Arizona | California | Colorado | Florida | Illinois | Maryland | Michigan | Nevada | New Mexico | New York | Texas\n",
            "Total Members: 12\n",
            "\n"
          ]
        }
      ]
    },
    {
      "cell_type": "code",
      "metadata": {
        "id": "aIpLP2YS47vo",
        "colab": {
          "base_uri": "https://localhost:8080/",
          "height": 513
        },
        "outputId": "6d216469-08c2-472f-a040-2b486b5eaf06"
      },
      "source": [
        "visualize = pd.DataFrame(clusters_new.cluster_centers_) #.reset_index()\n",
        "visualize = visualize.T\n",
        "visualize['column'] = ['Murder','Assault','UrbanPop','Rape']\n",
        "visualize = visualize.melt(id_vars=['column'], var_name='cluster')\n",
        "visualize['cluster'] = visualize.cluster.astype('category')# Visualize the result\n",
        "plt.figure(figsize=(12, 8))\n",
        "sns.barplot(x='cluster', y='value', hue='column', data=visualize)\n",
        "plt.title('The cluster\\'s characteristics')\n",
        "plt.show()"
      ],
      "execution_count": 56,
      "outputs": [
        {
          "output_type": "display_data",
          "data": {
            "image/png": "[encoded data removed]",
            "text/plain": [
              "<Figure size 864x576 with 1 Axes>"
            ]
          },
          "metadata": {
            "needs_background": "light"
          }
        }
      ]
    },
    {
      "cell_type": "markdown",
      "metadata": {
        "id": "h7pw5kNN47vp"
      },
      "source": [
        "# Conclusion:-4 cluster is good for create group of same crime  rate states and afte the creating & visualiaze the different type of models i am going to make the infrances on centroid linkage and Kmeans cluster method because  both have same & appropriate result "
      ]
    },
    {
      "cell_type": "markdown",
      "metadata": {
        "id": "sVXJ7FLv47vq"
      },
      "source": [
        "# Cluster3 have high crime & high popultion rate centroid"
      ]
    },
    {
      "cell_type": "markdown",
      "metadata": {
        "id": "OG4nJk5947vq"
      },
      "source": [
        "# Cluster2 have low crime & low popultion rate centroid\n"
      ]
    },
    {
      "cell_type": "markdown",
      "metadata": {
        "id": "KfVRoTcP47vr"
      },
      "source": [
        "# Cluster0 have low crime & high popultion rate centroid\n"
      ]
    },
    {
      "cell_type": "markdown",
      "metadata": {
        "id": "MwVnRPIc47vr"
      },
      "source": [
        "# Cluster1 have high murder,assault & low popultion rate centroid\n"
      ]
    }
  ]
}